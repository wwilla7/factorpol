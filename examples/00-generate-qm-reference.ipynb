{
 "cells": [
  {
   "cell_type": "markdown",
   "metadata": {},
   "source": [
    "## Introduction\n",
    "\n",
    "This is an example to generate quantum mechanically (QM) calculated electrostatics potentials (ESPs) with `factorpol` package.\n",
    "\n",
    "Calculated QM ESPs will be stored in a SQL-based database for partial charge or atom-centered polarizability fitting."
   ]
  },
  {
   "cell_type": "markdown",
   "metadata": {},
   "source": [
    "## Dependencies\n",
    "- psi4\n",
    "- ray\n",
    "- openff-toolkit\n",
    "- openff-recharge*\n",
    "- sqlalchemy\n",
    "- openeye-toolkits\n",
    "\n",
    "In order to generate polarized QM ESPs, i.e. with imposed electric field, a modified version of `openff-recharge` is used:\n",
    "\n",
    "```shell\n",
    "git clone git@github.com:wwilla7/openff-recharge.git\n",
    "git checkout add-pol-support\n",
    "cd openff-recharge\n",
    "pip install -e .\n",
    "```"
   ]
  },
  {
   "cell_type": "code",
   "execution_count": 1,
   "metadata": {},
   "outputs": [],
   "source": [
    "import os\n",
    "cwd = os.getcwd()\n",
    "\n",
    "import numpy as np\n",
    "\n",
    "# QWorker is used for set up and carry out QM calculations\n",
    "from factorpol.qm_worker import QWorker\n",
    "# StorageHandler is used for query and store calculated QM properties\n",
    "from factorpol.utilities import flatten_a_list, StorageHandler\n",
    "# use openff-toolkit to process dataset\n",
    "from openff.toolkit import Molecule, ForceField"
   ]
  },
  {
   "cell_type": "markdown",
   "metadata": {},
   "source": [
    "## Prepare dataset"
   ]
  },
  {
   "cell_type": "markdown",
   "metadata": {},
   "source": [
    "We use methanol and ethene as dataset for all examples. Resulted parameters, such as polarizabilities, partial charges, and BCC-dPol parameters are only meant for **demonstration**. "
   ]
  },
  {
   "cell_type": "code",
   "execution_count": 2,
   "metadata": {},
   "outputs": [
    {
     "name": "stderr",
     "output_type": "stream",
     "text": [
      "Warning: Cannot perform Hydrogen sampling with GPU-Omega: GPU-Omega disabled.\n"
     ]
    }
   ],
   "source": [
    "smiles = [\"CO\", \"C=C\"]\n",
    "dataset = [Molecule.from_smiles(s) for s in smiles]\n",
    "_ = [offmol.generate_conformers(n_conformers=1) for offmol in dataset]"
   ]
  },
  {
   "cell_type": "markdown",
   "metadata": {},
   "source": [
    "Take a look at the dataset"
   ]
  },
  {
   "cell_type": "code",
   "execution_count": 3,
   "metadata": {},
   "outputs": [
    {
     "data": {
      "application/vnd.jupyter.widget-view+json": {
       "model_id": "1288092a3d70442f9a4bcb851c6f0e37",
       "version_major": 2,
       "version_minor": 0
      },
      "text/plain": []
     },
     "metadata": {},
     "output_type": "display_data"
    },
    {
     "data": {
      "application/vnd.jupyter.widget-view+json": {
       "model_id": "7b467576ce57444b91a7b06fcc46c434",
       "version_major": 2,
       "version_minor": 0
      },
      "text/plain": [
       "NGLWidget()"
      ]
     },
     "metadata": {},
     "output_type": "display_data"
    }
   ],
   "source": [
    "dataset[0]"
   ]
  },
  {
   "cell_type": "code",
   "execution_count": 4,
   "metadata": {},
   "outputs": [
    {
     "data": {
      "application/vnd.jupyter.widget-view+json": {
       "model_id": "66f90afa340b4910ad43099b115d6fef",
       "version_major": 2,
       "version_minor": 0
      },
      "text/plain": [
       "NGLWidget()"
      ]
     },
     "metadata": {},
     "output_type": "display_data"
    }
   ],
   "source": [
    "dataset[1]"
   ]
  },
  {
   "cell_type": "markdown",
   "metadata": {},
   "source": [
    "## Prepare QM calculations\n",
    "\n",
    "For this QM actor, we will deploy two `ray` workers and provide four cores for each worker to use."
   ]
  },
  {
   "cell_type": "code",
   "execution_count": 5,
   "metadata": {},
   "outputs": [
    {
     "name": "stderr",
     "output_type": "stream",
     "text": [
      "2023-03-30 16:42:44,264\tINFO worker.py:1553 -- Started a local Ray instance.\n"
     ]
    }
   ],
   "source": [
    "qworker = QWorker(n_worker=2, thread_per_worker=4)"
   ]
  },
  {
   "cell_type": "markdown",
   "metadata": {},
   "source": [
    "### Baseline QM ESPs\n",
    "We start with baseline QM ESPs, which doesn't not have imposed external electric field. <br>\n",
    "\n",
    "> QM level of theory <br>\n",
    "> MP2/aug-cc-pvtz <br>\n",
    "> MSK grid setting:  1/4 "
   ]
  },
  {
   "cell_type": "code",
   "execution_count": 6,
   "metadata": {
    "scrolled": true
   },
   "outputs": [
    {
     "name": "stdout",
     "output_type": "stream",
     "text": [
      "[0. 0. 0.]\n"
     ]
    },
    {
     "name": "stderr",
     "output_type": "stream",
     "text": [
      "\u001b[2m\u001b[36m(_worker pid=2538633)\u001b[0m /home/wwilla/mambaforge/envs/factorpol/lib/python3.9/site-packages/scipy/__init__.py:146: UserWarning: A NumPy version >=1.16.5 and <1.23.0 is required for this version of SciPy (detected version 1.24.2\n",
      "\u001b[2m\u001b[36m(_worker pid=2538633)\u001b[0m   warnings.warn(f\"A NumPy version >={np_minversion} and <{np_maxversion}\"\n",
      "\u001b[2m\u001b[36m(_worker pid=2538633)\u001b[0m /home/wwilla/mambaforge/envs/factorpol/lib/python3.9/site-packages/numpy/core/getlimits.py:518: UserWarning: The value of the smallest subnormal for <class 'numpy.float64'> type is zero.\n",
      "\u001b[2m\u001b[36m(_worker pid=2538633)\u001b[0m   setattr(self, word, getattr(machar, word).flat[0])\n",
      "\u001b[2m\u001b[36m(_worker pid=2538633)\u001b[0m /home/wwilla/mambaforge/envs/factorpol/lib/python3.9/site-packages/numpy/core/getlimits.py:89: UserWarning: The value of the smallest subnormal for <class 'numpy.float64'> type is zero.\n",
      "\u001b[2m\u001b[36m(_worker pid=2538633)\u001b[0m   return self._float_to_str(self.smallest_subnormal)\n",
      "\u001b[2m\u001b[36m(_worker pid=2538633)\u001b[0m /home/wwilla/mambaforge/envs/factorpol/lib/python3.9/site-packages/numpy/core/getlimits.py:518: UserWarning: The value of the smallest subnormal for <class 'numpy.float32'> type is zero.\n",
      "\u001b[2m\u001b[36m(_worker pid=2538633)\u001b[0m   setattr(self, word, getattr(machar, word).flat[0])\n",
      "\u001b[2m\u001b[36m(_worker pid=2538633)\u001b[0m /home/wwilla/mambaforge/envs/factorpol/lib/python3.9/site-packages/numpy/core/getlimits.py:89: UserWarning: The value of the smallest subnormal for <class 'numpy.float32'> type is zero.\n",
      "\u001b[2m\u001b[36m(_worker pid=2538633)\u001b[0m   return self._float_to_str(self.smallest_subnormal)\n",
      "\u001b[2m\u001b[36m(_worker pid=2538632)\u001b[0m /home/wwilla/mambaforge/envs/factorpol/lib/python3.9/site-packages/scipy/__init__.py:146: UserWarning: A NumPy version >=1.16.5 and <1.23.0 is required for this version of SciPy (detected version 1.24.2\n",
      "\u001b[2m\u001b[36m(_worker pid=2538632)\u001b[0m   warnings.warn(f\"A NumPy version >={np_minversion} and <{np_maxversion}\"\n",
      "\u001b[2m\u001b[36m(_worker pid=2538632)\u001b[0m /home/wwilla/mambaforge/envs/factorpol/lib/python3.9/site-packages/numpy/core/getlimits.py:518: UserWarning: The value of the smallest subnormal for <class 'numpy.float64'> type is zero.\n",
      "\u001b[2m\u001b[36m(_worker pid=2538632)\u001b[0m   setattr(self, word, getattr(machar, word).flat[0])\n",
      "\u001b[2m\u001b[36m(_worker pid=2538632)\u001b[0m /home/wwilla/mambaforge/envs/factorpol/lib/python3.9/site-packages/numpy/core/getlimits.py:89: UserWarning: The value of the smallest subnormal for <class 'numpy.float64'> type is zero.\n",
      "\u001b[2m\u001b[36m(_worker pid=2538632)\u001b[0m   return self._float_to_str(self.smallest_subnormal)\n",
      "\u001b[2m\u001b[36m(_worker pid=2538632)\u001b[0m /home/wwilla/mambaforge/envs/factorpol/lib/python3.9/site-packages/numpy/core/getlimits.py:518: UserWarning: The value of the smallest subnormal for <class 'numpy.float32'> type is zero.\n",
      "\u001b[2m\u001b[36m(_worker pid=2538632)\u001b[0m   setattr(self, word, getattr(machar, word).flat[0])\n",
      "\u001b[2m\u001b[36m(_worker pid=2538632)\u001b[0m /home/wwilla/mambaforge/envs/factorpol/lib/python3.9/site-packages/numpy/core/getlimits.py:89: UserWarning: The value of the smallest subnormal for <class 'numpy.float32'> type is zero.\n",
      "\u001b[2m\u001b[36m(_worker pid=2538632)\u001b[0m   return self._float_to_str(self.smallest_subnormal)\n"
     ]
    }
   ],
   "source": [
    "ret = qworker.start(\n",
    "    dataset=dataset,\n",
    "    method=\"mp2\",\n",
    "    basis=\"aug-cc-pvtz\",\n",
    "    wd=os.path.join(cwd, \"data_qm\"),\n",
    "    n_conf=1,\n",
    "    msk_density=1.0,\n",
    "    msk_layers=4.0,\n",
    "    external_field=np.zeros(3),\n",
    ")"
   ]
  },
  {
   "cell_type": "code",
   "execution_count": 7,
   "metadata": {},
   "outputs": [
    {
     "name": "stdout",
     "output_type": "stream",
     "text": [
      "Number of MoleculeESPRecords generated:\t 2\n"
     ]
    }
   ],
   "source": [
    "print(f\"Number of MoleculeESPRecords generated:\\t {len(ret)}\")"
   ]
  },
  {
   "cell_type": "markdown",
   "metadata": {},
   "source": [
    "### Polarized QM ESPs with imposed electric field\n",
    "We put an imposed external electric field on top of molecules to generate reference polarized QM ESPs for deriving polarizability. <br>\n",
    "\n",
    "In this example, we impose electric field on the direction of `x+`, with a magnitude of 0.01 a.u. \n",
    "\n",
    "> QM level of theory <br>\n",
    "> MP2/aug-cc-pvtz <br>\n",
    "> MSK grid setting:  1/4 \n",
    "> External electric field: [0.01, 0.0, 0.0]\n",
    "\n",
    "In production, we generate 6 sets of polarized QM ESPs to derive polarizabilities."
   ]
  },
  {
   "cell_type": "code",
   "execution_count": 8,
   "metadata": {},
   "outputs": [
    {
     "name": "stdout",
     "output_type": "stream",
     "text": [
      "[0.01 0.   0.  ]\n"
     ]
    }
   ],
   "source": [
    "external_efield = np.array([0.01, 0.0, 0.0])\n",
    "ret_polarized = qworker.start(\n",
    "    dataset=dataset,\n",
    "    method=\"mp2\",\n",
    "    basis=\"aug-cc-pvtz\",\n",
    "    wd=os.path.join(cwd, \"data_qm\"),\n",
    "    n_conf=1,\n",
    "    msk_density=1.0,\n",
    "    msk_layers=4.0,\n",
    "    external_field=external_efield,\n",
    ")"
   ]
  },
  {
   "cell_type": "code",
   "execution_count": 9,
   "metadata": {},
   "outputs": [
    {
     "name": "stdout",
     "output_type": "stream",
     "text": [
      "Number of MoleculeESPRecords generated:\t 2\n"
     ]
    }
   ],
   "source": [
    "print(f\"Number of MoleculeESPRecords generated:\\t {len(ret_polarized)}\")"
   ]
  },
  {
   "cell_type": "code",
   "execution_count": 10,
   "metadata": {},
   "outputs": [
    {
     "name": "stdout",
     "output_type": "stream",
     "text": [
      "Total of MoleculeESPRecords generated:\t 4\n"
     ]
    }
   ],
   "source": [
    "total_records = flatten_a_list(flatten_a_list(qworker.records))\n",
    "print(f\"Total of MoleculeESPRecords generated:\\t {len(total_records)}\")"
   ]
  },
  {
   "cell_type": "markdown",
   "metadata": {},
   "source": [
    "## Save QM results"
   ]
  },
  {
   "cell_type": "code",
   "execution_count": 11,
   "metadata": {},
   "outputs": [
    {
     "name": "stdout",
     "output_type": "stream",
     "text": [
      "Creating new database at postgresql://localhost:5432/factorpol_examples\n"
     ]
    }
   ],
   "source": [
    "st = StorageHandler(local_path=os.path.join(cwd, \"data_tmp\"))\n",
    "ses = st.session(\"factorpol_examples\")"
   ]
  },
  {
   "cell_type": "code",
   "execution_count": 12,
   "metadata": {},
   "outputs": [],
   "source": [
    "storage = qworker.store(my_session=ses, records=total_records, )"
   ]
  },
  {
   "cell_type": "code",
   "execution_count": 13,
   "metadata": {},
   "outputs": [
    {
     "name": "stdout",
     "output_type": "stream",
     "text": [
      "Number of records stored:\t 4\n"
     ]
    }
   ],
   "source": [
    "print(f\"Number of records stored:\\t {len(storage)}\")"
   ]
  },
  {
   "cell_type": "markdown",
   "metadata": {},
   "source": [
    "### Just in case you want to drop the database and start over"
   ]
  },
  {
   "cell_type": "code",
   "execution_count": 15,
   "metadata": {},
   "outputs": [],
   "source": [
    "# from sqlalchemy_utils import drop_database\n",
    "# drop_database(ses.bind.url)"
   ]
  },
  {
   "cell_type": "code",
   "execution_count": null,
   "metadata": {},
   "outputs": [],
   "source": []
  }
 ],
 "metadata": {
  "kernelspec": {
   "display_name": "Python 3 (ipykernel)",
   "language": "python",
   "name": "python3"
  },
  "language_info": {
   "codemirror_mode": {
    "name": "ipython",
    "version": 3
   },
   "file_extension": ".py",
   "mimetype": "text/x-python",
   "name": "python",
   "nbconvert_exporter": "python",
   "pygments_lexer": "ipython3",
   "version": "3.9.15"
  }
 },
 "nbformat": 4,
 "nbformat_minor": 1
}
