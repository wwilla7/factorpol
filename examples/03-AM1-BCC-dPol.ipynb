{
 "cells": [
  {
   "cell_type": "markdown",
   "id": "4024bc28",
   "metadata": {},
   "source": [
    "## Introduction\n",
    "\n",
    "This notebook contains workflows to train BCC-dPol library from baseline QM ESPs and generate AM1-BCC-dPol\n",
    "\n",
    "**Attention**: since there are only two molecules in the BCC training set, this example is meant to be a demonstration, resulting parameters are poorly defined. "
   ]
  },
  {
   "cell_type": "markdown",
   "id": "97e13d74",
   "metadata": {},
   "source": [
    "## Prepare training data"
   ]
  },
  {
   "cell_type": "code",
   "execution_count": 1,
   "id": "a80f476b",
   "metadata": {},
   "outputs": [
    {
     "name": "stderr",
     "output_type": "stream",
     "text": [
      "/home/wwilla/mambaforge/envs/factorpol/lib/python3.9/site-packages/numpy/core/getlimits.py:499: UserWarning: The value of the smallest subnormal for <class 'numpy.float64'> type is zero.\n",
      "  setattr(self, word, getattr(machar, word).flat[0])\n",
      "/home/wwilla/mambaforge/envs/factorpol/lib/python3.9/site-packages/numpy/core/getlimits.py:89: UserWarning: The value of the smallest subnormal for <class 'numpy.float64'> type is zero.\n",
      "  return self._float_to_str(self.smallest_subnormal)\n",
      "/home/wwilla/mambaforge/envs/factorpol/lib/python3.9/site-packages/numpy/core/getlimits.py:499: UserWarning: The value of the smallest subnormal for <class 'numpy.float32'> type is zero.\n",
      "  setattr(self, word, getattr(machar, word).flat[0])\n",
      "/home/wwilla/mambaforge/envs/factorpol/lib/python3.9/site-packages/numpy/core/getlimits.py:89: UserWarning: The value of the smallest subnormal for <class 'numpy.float32'> type is zero.\n",
      "  return self._float_to_str(self.smallest_subnormal)\n"
     ]
    }
   ],
   "source": [
    "import os\n",
    "\n",
    "import numpy as np\n",
    "import pandas as pd\n",
    "from openff.toolkit import ForceField\n",
    "from pkg_resources import resource_filename\n",
    "\n",
    "from factorpol.bcc_training import BccTrainer\n",
    "from factorpol.charge_training import ChargeTrainer\n",
    "from factorpol.qm_worker import QWorker\n",
    "from factorpol.utilities import (BondChargeCorrections, calc_rrms,\n",
    "                                 flatten_a_list, original_bcc_collections,\n",
    "                                 Polarizability, retrieve_records,\n",
    "                                 StorageHandler)\n",
    "\n",
    "cwd = os.getcwd()\n",
    "off_forcefield = ForceField(resource_filename(\n",
    "    \"factorpol\", os.path.join(\"data\", \"off_examples.offxml\")\n",
    "))\n"
   ]
  },
  {
   "cell_type": "markdown",
   "id": "a344ec05",
   "metadata": {},
   "source": [
    "Create a `sqlalchemy` session"
   ]
  },
  {
   "cell_type": "code",
   "execution_count": 2,
   "id": "35741e6e",
   "metadata": {},
   "outputs": [],
   "source": [
    "st = StorageHandler(local_path=os.path.join(cwd, \"data_tmp\"))\n",
    "ses = st.session(\"factorpol_examples\")"
   ]
  },
  {
   "cell_type": "code",
   "execution_count": 3,
   "id": "29d69b0c",
   "metadata": {},
   "outputs": [],
   "source": [
    "dataset = [\"CO\", \"C=C\"]"
   ]
  },
  {
   "cell_type": "code",
   "execution_count": 4,
   "id": "ae95c458",
   "metadata": {},
   "outputs": [],
   "source": [
    "esp_records = retrieve_records(my_session=ses, dataset=dataset)"
   ]
  },
  {
   "cell_type": "code",
   "execution_count": 5,
   "id": "c1dd8f44",
   "metadata": {},
   "outputs": [
    {
     "name": "stdout",
     "output_type": "stream",
     "text": [
      "Number of ESP records:\t 2\n"
     ]
    }
   ],
   "source": [
    "print(f\"Number of ESP records:\\t {len(esp_records)}\")"
   ]
  },
  {
   "cell_type": "markdown",
   "id": "ab8f1eff",
   "metadata": {},
   "source": [
    "Load previously derived polarizability parameters.<br> \n",
    "**Attention**: Because it was derived from one single molecule, it is also poorly defined and should only be used as an example."
   ]
  },
  {
   "cell_type": "code",
   "execution_count": 6,
   "id": "3f0b19ee",
   "metadata": {},
   "outputs": [],
   "source": [
    "polarizability = Polarizability(data_source=\"ret_alphas.csv\")"
   ]
  },
  {
   "cell_type": "code",
   "execution_count": 7,
   "id": "0d394d88",
   "metadata": {},
   "outputs": [
    {
     "data": {
      "text/html": [
       "<div>\n",
       "<style scoped>\n",
       "    .dataframe tbody tr th:only-of-type {\n",
       "        vertical-align: middle;\n",
       "    }\n",
       "\n",
       "    .dataframe tbody tr th {\n",
       "        vertical-align: top;\n",
       "    }\n",
       "\n",
       "    .dataframe thead th {\n",
       "        text-align: right;\n",
       "    }\n",
       "</style>\n",
       "<table border=\"1\" class=\"dataframe\">\n",
       "  <thead>\n",
       "    <tr style=\"text-align: right;\">\n",
       "      <th></th>\n",
       "      <th>Polarizability (angstrom**3)</th>\n",
       "    </tr>\n",
       "    <tr>\n",
       "      <th>Type</th>\n",
       "      <th></th>\n",
       "    </tr>\n",
       "  </thead>\n",
       "  <tbody>\n",
       "    <tr>\n",
       "      <th>[#1:1]</th>\n",
       "      <td>0.377140</td>\n",
       "    </tr>\n",
       "    <tr>\n",
       "      <th>[#6:1]</th>\n",
       "      <td>1.440485</td>\n",
       "    </tr>\n",
       "    <tr>\n",
       "      <th>[#7:1]</th>\n",
       "      <td>0.000000</td>\n",
       "    </tr>\n",
       "    <tr>\n",
       "      <th>[#8:1]</th>\n",
       "      <td>0.000000</td>\n",
       "    </tr>\n",
       "  </tbody>\n",
       "</table>\n",
       "</div>"
      ],
      "text/plain": [
       "        Polarizability (angstrom**3)\n",
       "Type                                \n",
       "[#1:1]                      0.377140\n",
       "[#6:1]                      1.440485\n",
       "[#7:1]                      0.000000\n",
       "[#8:1]                      0.000000"
      ]
     },
     "execution_count": 7,
     "metadata": {},
     "output_type": "execute_result"
    }
   ],
   "source": [
    "polarizability.data"
   ]
  },
  {
   "cell_type": "markdown",
   "id": "f0960a86",
   "metadata": {},
   "source": [
    "## BCC-dPol Training"
   ]
  },
  {
   "cell_type": "code",
   "execution_count": 8,
   "id": "60712db3",
   "metadata": {},
   "outputs": [
    {
     "name": "stderr",
     "output_type": "stream",
     "text": [
      "/home/wwilla/data_main/infrastructure/factorpol/factorpol/charge_training.py:82: RuntimeWarning: divide by zero encountered in power\n",
      "  self._r_jk == 0.0, self._r_jk, np.power(self._r_jk, -3)\n",
      "Warning: Cannot perform Hydrogen sampling with GPU-Omega: GPU-Omega disabled.\n",
      "/home/wwilla/data_main/infrastructure/factorpol/factorpol/charge_training.py:82: RuntimeWarning: divide by zero encountered in power\n",
      "  self._r_jk == 0.0, self._r_jk, np.power(self._r_jk, -3)\n"
     ]
    }
   ],
   "source": [
    "bcc_workers = BccTrainer(\n",
    "    training_set=esp_records.values(),\n",
    "    polarizability=polarizability,\n",
    "    reference_collection=original_bcc_collections,\n",
    "    off_forcefield=off_forcefield,\n",
    ")"
   ]
  },
  {
   "cell_type": "code",
   "execution_count": 9,
   "id": "f37ea411",
   "metadata": {},
   "outputs": [],
   "source": [
    "ret = bcc_workers.training()"
   ]
  },
  {
   "cell_type": "code",
   "execution_count": 10,
   "id": "b002f1f0",
   "metadata": {},
   "outputs": [],
   "source": [
    "dt = pd.DataFrame([{\"SMIRKS\": k, \"value\": v} for k, v in ret[\"bcc_parameters\"].items()])"
   ]
  },
  {
   "cell_type": "code",
   "execution_count": 11,
   "id": "2d98a7db",
   "metadata": {},
   "outputs": [
    {
     "data": {
      "text/html": [
       "<div>\n",
       "<style scoped>\n",
       "    .dataframe tbody tr th:only-of-type {\n",
       "        vertical-align: middle;\n",
       "    }\n",
       "\n",
       "    .dataframe tbody tr th {\n",
       "        vertical-align: top;\n",
       "    }\n",
       "\n",
       "    .dataframe thead th {\n",
       "        text-align: right;\n",
       "    }\n",
       "</style>\n",
       "<table border=\"1\" class=\"dataframe\">\n",
       "  <thead>\n",
       "    <tr style=\"text-align: right;\">\n",
       "      <th></th>\n",
       "      <th>SMIRKS</th>\n",
       "      <th>value</th>\n",
       "    </tr>\n",
       "  </thead>\n",
       "  <tbody>\n",
       "    <tr>\n",
       "      <th>0</th>\n",
       "      <td>[#6X4:1]-[#1:2]</td>\n",
       "      <td>0.014983</td>\n",
       "    </tr>\n",
       "    <tr>\n",
       "      <th>1</th>\n",
       "      <td>[#6X4:1]-[#8X1,#8X2:2]</td>\n",
       "      <td>0.041692</td>\n",
       "    </tr>\n",
       "    <tr>\n",
       "      <th>2</th>\n",
       "      <td>[#8X1,#8X2:1]-[#1:2]</td>\n",
       "      <td>-0.123213</td>\n",
       "    </tr>\n",
       "  </tbody>\n",
       "</table>\n",
       "</div>"
      ],
      "text/plain": [
       "                   SMIRKS     value\n",
       "0         [#6X4:1]-[#1:2]  0.014983\n",
       "1  [#6X4:1]-[#8X1,#8X2:2]  0.041692\n",
       "2    [#8X1,#8X2:1]-[#1:2] -0.123213"
      ]
     },
     "execution_count": 11,
     "metadata": {},
     "output_type": "execute_result"
    }
   ],
   "source": [
    "dt"
   ]
  },
  {
   "cell_type": "markdown",
   "id": "1a90d36a",
   "metadata": {},
   "source": [
    "Save a copy of bcc results to local"
   ]
  },
  {
   "cell_type": "code",
   "execution_count": 12,
   "id": "7eca5388",
   "metadata": {},
   "outputs": [],
   "source": [
    "dt.to_csv(\"ret_bccs.csv\", index=False)"
   ]
  },
  {
   "cell_type": "code",
   "execution_count": 13,
   "id": "1791c429",
   "metadata": {},
   "outputs": [],
   "source": [
    "ret_bccs = BondChargeCorrections(data_source=\"ret_bccs.csv\")"
   ]
  },
  {
   "cell_type": "markdown",
   "id": "8436f96f",
   "metadata": {},
   "source": [
    "### Generate AM1-BCC-dPol charges"
   ]
  },
  {
   "cell_type": "code",
   "execution_count": 14,
   "id": "c90b1dff",
   "metadata": {},
   "outputs": [
    {
     "name": "stderr",
     "output_type": "stream",
     "text": [
      "/home/wwilla/data_main/infrastructure/factorpol/factorpol/charge_training.py:82: RuntimeWarning: divide by zero encountered in power\n",
      "  self._r_jk == 0.0, self._r_jk, np.power(self._r_jk, -3)\n"
     ]
    }
   ],
   "source": [
    "methanol = ChargeTrainer(\n",
    "    record=esp_records[\"CO\"],\n",
    "    polarizability=polarizability,\n",
    "    off_forcefield=off_forcefield,\n",
    "    coulomb14scale=0.5,\n",
    ")"
   ]
  },
  {
   "cell_type": "code",
   "execution_count": 15,
   "id": "f46628cd",
   "metadata": {},
   "outputs": [],
   "source": [
    "am1bccdpol = BccTrainer.generate_charges(\n",
    "    offmol=methanol.offmol,\n",
    "    bcc_collection=ret_bccs.recharge_collection,\n",
    ")"
   ]
  },
  {
   "cell_type": "code",
   "execution_count": 16,
   "id": "846d858c",
   "metadata": {},
   "outputs": [
    {
     "data": {
      "text/html": [
       "<table><tbody><tr><th>Magnitude</th><td style='text-align:left;'><pre>[0.02162148520430024 -0.4951345311396327 0.05045669880330044<br> 0.05045669880330044 0.05045669880330044 0.3221429420748505]</pre></td></tr><tr><th>Units</th><td style='text-align:left;'>elementary_charge</td></tr></tbody></table>"
      ],
      "text/latex": [
       "$\\begin{pmatrix}0.02162148520430024 & -0.4951345311396327 & 0.05045669880330044 & 0.05045669880330044 & 0.05045669880330044 & 0.3221429420748505\\end{pmatrix}\\ \\mathrm{elementary\\_charge}$"
      ],
      "text/plain": [
       "array([ 0.02162149, -0.49513453,  0.0504567 ,  0.0504567 ,  0.0504567 ,\n",
       "        0.32214294]) <Unit('elementary_charge')>"
      ]
     },
     "execution_count": 16,
     "metadata": {},
     "output_type": "execute_result"
    }
   ],
   "source": [
    "am1bccdpol"
   ]
  },
  {
   "cell_type": "code",
   "execution_count": 17,
   "id": "a4036b49",
   "metadata": {},
   "outputs": [
    {
     "name": "stdout",
     "output_type": "stream",
     "text": [
      "Quality-of-fit RRMS = 0.804\n"
     ]
    }
   ],
   "source": [
    "am1bccdpol_esp = methanol.calc_Esps_dpol(partial_charge=am1bccdpol.magnitude)\n",
    "rrms = calc_rrms(calc=am1bccdpol_esp, ref=methanol.esp_values)\n",
    "print(f\"Quality-of-fit RRMS = {rrms:.3f}\")"
   ]
  },
  {
   "cell_type": "code",
   "execution_count": null,
   "id": "e0f0b96b",
   "metadata": {},
   "outputs": [],
   "source": []
  }
 ],
 "metadata": {
  "kernelspec": {
   "display_name": "Python 3 (ipykernel)",
   "language": "python",
   "name": "python3"
  },
  "language_info": {
   "codemirror_mode": {
    "name": "ipython",
    "version": 3
   },
   "file_extension": ".py",
   "mimetype": "text/x-python",
   "name": "python",
   "nbconvert_exporter": "python",
   "pygments_lexer": "ipython3",
   "version": "3.9.15"
  }
 },
 "nbformat": 4,
 "nbformat_minor": 5
}
