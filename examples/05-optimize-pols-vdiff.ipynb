{
 "cells": [
  {
   "cell_type": "markdown",
   "id": "c68d7205",
   "metadata": {},
   "source": [
    "## Introduction\n",
    "\n",
    "This is an example to derive SMIRNOFF typed atom-centerd polarizabilities from quantum mechanically calculated electrostatics potentials with `factorpol` package.\n",
    "\n",
    "A global optimization is built by concatenating Individual objective function find polarizabilities for the training set.\n",
    "\n",
    "## Dependencies\n",
    "\n",
    "- ray\n",
    "- openff-toolkit\n",
    "- openff-recharge*\n",
    "- sqlalchemy\n",
    "- openeye-toolkits\n",
    "- scipy"
   ]
  },
  {
   "cell_type": "code",
   "execution_count": 1,
   "id": "ad9e912e",
   "metadata": {},
   "outputs": [
    {
     "name": "stderr",
     "output_type": "stream",
     "text": [
      "/home/wwilla/mambaforge/envs/factorpol/lib/python3.9/site-packages/numpy/core/getlimits.py:499: UserWarning: The value of the smallest subnormal for <class 'numpy.float64'> type is zero.\n",
      "  setattr(self, word, getattr(machar, word).flat[0])\n",
      "/home/wwilla/mambaforge/envs/factorpol/lib/python3.9/site-packages/numpy/core/getlimits.py:89: UserWarning: The value of the smallest subnormal for <class 'numpy.float64'> type is zero.\n",
      "  return self._float_to_str(self.smallest_subnormal)\n",
      "/home/wwilla/mambaforge/envs/factorpol/lib/python3.9/site-packages/numpy/core/getlimits.py:499: UserWarning: The value of the smallest subnormal for <class 'numpy.float32'> type is zero.\n",
      "  setattr(self, word, getattr(machar, word).flat[0])\n",
      "/home/wwilla/mambaforge/envs/factorpol/lib/python3.9/site-packages/numpy/core/getlimits.py:89: UserWarning: The value of the smallest subnormal for <class 'numpy.float32'> type is zero.\n",
      "  return self._float_to_str(self.smallest_subnormal)\n"
     ]
    }
   ],
   "source": [
    "import os\n",
    "import pickle\n",
    "from glob import glob\n",
    "\n",
    "import numpy as np\n",
    "import pandas as pd\n",
    "from openff.toolkit import ForceField, Molecule\n",
    "from pkg_resources import resource_filename\n",
    "\n",
    "from factorpol.alphas_training import (AlphaData, AlphasTrainer, AlphaWorker,\n",
    "                                       optimize_alphas)\n",
    "from factorpol.charge_training import ChargeTrainer\n",
    "from factorpol.utilities import (calc_rrms, flatten_a_list, Polarizability,\n",
    "                                 StorageHandler)\n",
    "\n",
    "cwd = os.getcwd()"
   ]
  },
  {
   "cell_type": "markdown",
   "id": "ef5c0251",
   "metadata": {},
   "source": [
    "## Prepare dataset"
   ]
  },
  {
   "cell_type": "markdown",
   "id": "2f5c38da",
   "metadata": {},
   "source": [
    "Curate QM ESPs data generated in `00-generate-qm-reference.ipynb`.\n",
    "\n",
    "`off_examples.offxml` is an example OpenForceField style [ForceField file](https://github.com/openforcefield/openff-forcefields/tree/main/openforcefields/offxml). We use the `<vdW>` handeler to label atoms with SMIRNOFF patterns and assign electrostatics parameters until we have a new handeler for polarizability.\n"
   ]
  },
  {
   "cell_type": "code",
   "execution_count": 2,
   "id": "147e7fd9",
   "metadata": {},
   "outputs": [],
   "source": [
    "off_forcefield = ForceField(resource_filename(\n",
    "    \"factorpol\", os.path.join(\"data\", \"off_examples.offxml\")\n",
    "))\n",
    "\n",
    "# Initialize a polarizability \n",
    "alphas0 = Polarizability()"
   ]
  },
  {
   "cell_type": "markdown",
   "id": "290a7cf2",
   "metadata": {},
   "source": [
    "Curate QM data and prepare ray workers to optimize polarizabilities"
   ]
  },
  {
   "cell_type": "code",
   "execution_count": 3,
   "id": "6446d905",
   "metadata": {
    "scrolled": true
   },
   "outputs": [
    {
     "name": "stderr",
     "output_type": "stream",
     "text": [
      "2023-04-12 23:41:21,086\tINFO worker.py:1553 -- Started a local Ray instance.\n",
      "\u001b[2m\u001b[36m(pid=547600)\u001b[0m /home/wwilla/mambaforge/envs/factorpol/lib/python3.9/site-packages/numpy/core/getlimits.py:499: UserWarning: The value of the smallest subnormal for <class 'numpy.float64'> type is zero.\n",
      "\u001b[2m\u001b[36m(pid=547600)\u001b[0m   setattr(self, word, getattr(machar, word).flat[0])\n",
      "\u001b[2m\u001b[36m(pid=547600)\u001b[0m /home/wwilla/mambaforge/envs/factorpol/lib/python3.9/site-packages/numpy/core/getlimits.py:89: UserWarning: The value of the smallest subnormal for <class 'numpy.float64'> type is zero.\n",
      "\u001b[2m\u001b[36m(pid=547600)\u001b[0m   return self._float_to_str(self.smallest_subnormal)\n",
      "\u001b[2m\u001b[36m(pid=547600)\u001b[0m /home/wwilla/mambaforge/envs/factorpol/lib/python3.9/site-packages/numpy/core/getlimits.py:499: UserWarning: The value of the smallest subnormal for <class 'numpy.float32'> type is zero.\n",
      "\u001b[2m\u001b[36m(pid=547600)\u001b[0m   setattr(self, word, getattr(machar, word).flat[0])\n",
      "\u001b[2m\u001b[36m(pid=547600)\u001b[0m /home/wwilla/mambaforge/envs/factorpol/lib/python3.9/site-packages/numpy/core/getlimits.py:89: UserWarning: The value of the smallest subnormal for <class 'numpy.float32'> type is zero.\n",
      "\u001b[2m\u001b[36m(pid=547600)\u001b[0m   return self._float_to_str(self.smallest_subnormal)\n",
      "\u001b[2m\u001b[36m(pid=547599)\u001b[0m /home/wwilla/mambaforge/envs/factorpol/lib/python3.9/site-packages/numpy/core/getlimits.py:499: UserWarning: The value of the smallest subnormal for <class 'numpy.float64'> type is zero.\n",
      "\u001b[2m\u001b[36m(pid=547599)\u001b[0m   setattr(self, word, getattr(machar, word).flat[0])\n",
      "\u001b[2m\u001b[36m(pid=547599)\u001b[0m /home/wwilla/mambaforge/envs/factorpol/lib/python3.9/site-packages/numpy/core/getlimits.py:89: UserWarning: The value of the smallest subnormal for <class 'numpy.float64'> type is zero.\n",
      "\u001b[2m\u001b[36m(pid=547599)\u001b[0m   return self._float_to_str(self.smallest_subnormal)\n",
      "\u001b[2m\u001b[36m(pid=547599)\u001b[0m /home/wwilla/mambaforge/envs/factorpol/lib/python3.9/site-packages/numpy/core/getlimits.py:499: UserWarning: The value of the smallest subnormal for <class 'numpy.float32'> type is zero.\n",
      "\u001b[2m\u001b[36m(pid=547599)\u001b[0m   setattr(self, word, getattr(machar, word).flat[0])\n",
      "\u001b[2m\u001b[36m(pid=547599)\u001b[0m /home/wwilla/mambaforge/envs/factorpol/lib/python3.9/site-packages/numpy/core/getlimits.py:89: UserWarning: The value of the smallest subnormal for <class 'numpy.float32'> type is zero.\n",
      "\u001b[2m\u001b[36m(pid=547599)\u001b[0m   return self._float_to_str(self.smallest_subnormal)\n",
      "\u001b[2m\u001b[36m(create_worker pid=547600)\u001b[0m /home/wwilla/data_main/infrastructure/factorpol/factorpol/charge_training.py:82: RuntimeWarning: divide by zero encountered in power\n",
      "\u001b[2m\u001b[36m(create_worker pid=547600)\u001b[0m   self._r_jk == 0.0, self._r_jk, np.power(self._r_jk, -3)\n",
      "\u001b[2m\u001b[36m(create_worker pid=547600)\u001b[0m Warning: Cannot perform Hydrogen sampling with GPU-Omega: GPU-Omega disabled.\n",
      "\u001b[2m\u001b[36m(create_worker pid=547599)\u001b[0m /home/wwilla/data_main/infrastructure/factorpol/factorpol/charge_training.py:82: RuntimeWarning: divide by zero encountered in power\n",
      "\u001b[2m\u001b[36m(create_worker pid=547599)\u001b[0m   self._r_jk == 0.0, self._r_jk, np.power(self._r_jk, -3)\n",
      "\u001b[2m\u001b[36m(create_worker pid=547599)\u001b[0m Warning: Cannot perform Hydrogen sampling with GPU-Omega: GPU-Omega disabled.\n",
      "\u001b[2m\u001b[36m(create_worker pid=547600)\u001b[0m /home/wwilla/data_main/infrastructure/factorpol/factorpol/charge_training.py:82: RuntimeWarning: divide by zero encountered in power\n",
      "\u001b[2m\u001b[36m(create_worker pid=547600)\u001b[0m   self._r_jk == 0.0, self._r_jk, np.power(self._r_jk, -3)\n",
      "\u001b[2m\u001b[36m(create_worker pid=547599)\u001b[0m /home/wwilla/data_main/infrastructure/factorpol/factorpol/charge_training.py:82: RuntimeWarning: divide by zero encountered in power\n",
      "\u001b[2m\u001b[36m(create_worker pid=547599)\u001b[0m   self._r_jk == 0.0, self._r_jk, np.power(self._r_jk, -3)\n"
     ]
    }
   ],
   "source": [
    "data = AlphaData(\n",
    "    database_name=\"factorpol_examples\",\n",
    "    dataset=[\"CO\", \"C=C\"],\n",
    "    off_forcefield=off_forcefield,\n",
    "    polarizability=alphas0,\n",
    "    num_cpus=2,\n",
    ")"
   ]
  },
  {
   "cell_type": "markdown",
   "id": "c1965788",
   "metadata": {},
   "source": [
    "Because we have 2 molecules in the training set, each of them has two sets of QM ESPs, which means 1 workers per molecule and a totoal of 2 workers."
   ]
  },
  {
   "cell_type": "code",
   "execution_count": 4,
   "id": "0378c110",
   "metadata": {},
   "outputs": [
    {
     "name": "stdout",
     "output_type": "stream",
     "text": [
      "Number of data in training set:\t 2\n"
     ]
    }
   ],
   "source": [
    "print(f\"Number of data in training set:\\t {len(data.workers)}\")"
   ]
  },
  {
   "cell_type": "markdown",
   "id": "dc9483c6",
   "metadata": {},
   "source": [
    "## Optimization"
   ]
  },
  {
   "cell_type": "code",
   "execution_count": 5,
   "id": "a22b93d1",
   "metadata": {},
   "outputs": [
    {
     "name": "stderr",
     "output_type": "stream",
     "text": [
      "Path exists, deleting\n"
     ]
    }
   ],
   "source": [
    "atrain = AlphasTrainer(\n",
    "    workers=data.workers,\n",
    "    prior=alphas0,\n",
    "    working_directory=os.path.join(cwd, \"data_alphas_2\"),\n",
    ")"
   ]
  },
  {
   "cell_type": "code",
   "execution_count": 6,
   "id": "b9092773",
   "metadata": {
    "scrolled": true
   },
   "outputs": [
    {
     "name": "stderr",
     "output_type": "stream",
     "text": [
      "2023-04-12 23:41:27,255\tINFO worker.py:1553 -- Started a local Ray instance.\n",
      "\u001b[2m\u001b[36m(pid=549858)\u001b[0m /home/wwilla/mambaforge/envs/factorpol/lib/python3.9/site-packages/numpy/core/getlimits.py:499: UserWarning: The value of the smallest subnormal for <class 'numpy.float64'> type is zero.\n",
      "\u001b[2m\u001b[36m(pid=549858)\u001b[0m   setattr(self, word, getattr(machar, word).flat[0])\n",
      "\u001b[2m\u001b[36m(pid=549858)\u001b[0m /home/wwilla/mambaforge/envs/factorpol/lib/python3.9/site-packages/numpy/core/getlimits.py:89: UserWarning: The value of the smallest subnormal for <class 'numpy.float64'> type is zero.\n",
      "\u001b[2m\u001b[36m(pid=549858)\u001b[0m   return self._float_to_str(self.smallest_subnormal)\n",
      "\u001b[2m\u001b[36m(pid=549858)\u001b[0m /home/wwilla/mambaforge/envs/factorpol/lib/python3.9/site-packages/numpy/core/getlimits.py:499: UserWarning: The value of the smallest subnormal for <class 'numpy.float32'> type is zero.\n",
      "\u001b[2m\u001b[36m(pid=549858)\u001b[0m   setattr(self, word, getattr(machar, word).flat[0])\n",
      "\u001b[2m\u001b[36m(pid=549858)\u001b[0m /home/wwilla/mambaforge/envs/factorpol/lib/python3.9/site-packages/numpy/core/getlimits.py:89: UserWarning: The value of the smallest subnormal for <class 'numpy.float32'> type is zero.\n",
      "\u001b[2m\u001b[36m(pid=549858)\u001b[0m   return self._float_to_str(self.smallest_subnormal)\n",
      "\u001b[2m\u001b[36m(pid=549859)\u001b[0m /home/wwilla/mambaforge/envs/factorpol/lib/python3.9/site-packages/numpy/core/getlimits.py:499: UserWarning: The value of the smallest subnormal for <class 'numpy.float64'> type is zero.\n",
      "\u001b[2m\u001b[36m(pid=549859)\u001b[0m   setattr(self, word, getattr(machar, word).flat[0])\n",
      "\u001b[2m\u001b[36m(pid=549859)\u001b[0m /home/wwilla/mambaforge/envs/factorpol/lib/python3.9/site-packages/numpy/core/getlimits.py:89: UserWarning: The value of the smallest subnormal for <class 'numpy.float64'> type is zero.\n",
      "\u001b[2m\u001b[36m(pid=549859)\u001b[0m   return self._float_to_str(self.smallest_subnormal)\n",
      "\u001b[2m\u001b[36m(pid=549859)\u001b[0m /home/wwilla/mambaforge/envs/factorpol/lib/python3.9/site-packages/numpy/core/getlimits.py:499: UserWarning: The value of the smallest subnormal for <class 'numpy.float32'> type is zero.\n",
      "\u001b[2m\u001b[36m(pid=549859)\u001b[0m   setattr(self, word, getattr(machar, word).flat[0])\n",
      "\u001b[2m\u001b[36m(pid=549859)\u001b[0m /home/wwilla/mambaforge/envs/factorpol/lib/python3.9/site-packages/numpy/core/getlimits.py:89: UserWarning: The value of the smallest subnormal for <class 'numpy.float32'> type is zero.\n",
      "\u001b[2m\u001b[36m(pid=549859)\u001b[0m   return self._float_to_str(self.smallest_subnormal)\n"
     ]
    }
   ],
   "source": [
    "ret = optimize_alphas(worker_list=atrain.workers, solved=True, num_cpus=8)"
   ]
  },
  {
   "cell_type": "markdown",
   "id": "8c3ea993",
   "metadata": {},
   "source": [
    "## Results"
   ]
  },
  {
   "cell_type": "code",
   "execution_count": 7,
   "id": "f5ea672f",
   "metadata": {},
   "outputs": [
    {
     "data": {
      "text/plain": [
       "{'[#6:1]': 2.107914309852468 <Unit('angstrom ** 3')>,\n",
       " '[#8:1]': 0.7012858554056591 <Unit('angstrom ** 3')>,\n",
       " '[#1:1]': 0.014485995610544271 <Unit('angstrom ** 3')>}"
      ]
     },
     "execution_count": 7,
     "metadata": {},
     "output_type": "execute_result"
    }
   ],
   "source": [
    "ret[0]"
   ]
  },
  {
   "cell_type": "code",
   "execution_count": 8,
   "id": "27e60ffa",
   "metadata": {},
   "outputs": [
    {
     "data": {
      "text/plain": [
       "8.730940687229713e-06"
      ]
     },
     "execution_count": 8,
     "metadata": {},
     "output_type": "execute_result"
    }
   ],
   "source": [
    "#objective\n",
    "ret[-1]"
   ]
  }
 ],
 "metadata": {
  "kernelspec": {
   "display_name": "factorpol",
   "language": "python",
   "name": "factorpol"
  },
  "language_info": {
   "codemirror_mode": {
    "name": "ipython",
    "version": 3
   },
   "file_extension": ".py",
   "mimetype": "text/x-python",
   "name": "python",
   "nbconvert_exporter": "python",
   "pygments_lexer": "ipython3",
   "version": "3.9.15"
  }
 },
 "nbformat": 4,
 "nbformat_minor": 5
}
