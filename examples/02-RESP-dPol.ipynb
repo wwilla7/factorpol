{
 "cells": [
  {
   "cell_type": "markdown",
   "id": "d4c782cd",
   "metadata": {},
   "source": [
    "## Introduction\n",
    "\n",
    "This notebook contains workflows to derive RESP-dPol from baseline QM ESPs.\n",
    "\n",
    "See [documentation](https://factorpol.readthedocs.io/en/latest/api.html#factorpol.charge_training.ChargeTrainer.derive_resp_dpol) of RESP-dPol fitting for details."
   ]
  },
  {
   "cell_type": "code",
   "execution_count": 1,
   "id": "ccab21f8",
   "metadata": {},
   "outputs": [
    {
     "name": "stderr",
     "output_type": "stream",
     "text": [
      "/home/wwilla/mambaforge/envs/factorpol/lib/python3.9/site-packages/numpy/core/getlimits.py:499: UserWarning: The value of the smallest subnormal for <class 'numpy.float64'> type is zero.\n",
      "  setattr(self, word, getattr(machar, word).flat[0])\n",
      "/home/wwilla/mambaforge/envs/factorpol/lib/python3.9/site-packages/numpy/core/getlimits.py:89: UserWarning: The value of the smallest subnormal for <class 'numpy.float64'> type is zero.\n",
      "  return self._float_to_str(self.smallest_subnormal)\n",
      "/home/wwilla/mambaforge/envs/factorpol/lib/python3.9/site-packages/numpy/core/getlimits.py:499: UserWarning: The value of the smallest subnormal for <class 'numpy.float32'> type is zero.\n",
      "  setattr(self, word, getattr(machar, word).flat[0])\n",
      "/home/wwilla/mambaforge/envs/factorpol/lib/python3.9/site-packages/numpy/core/getlimits.py:89: UserWarning: The value of the smallest subnormal for <class 'numpy.float32'> type is zero.\n",
      "  return self._float_to_str(self.smallest_subnormal)\n"
     ]
    }
   ],
   "source": [
    "import os\n",
    "import numpy as np\n",
    "import pandas as pd\n",
    "from openff.toolkit import ForceField\n",
    "from pkg_resources import resource_filename\n",
    "\n",
    "from factorpol.charge_training import ChargeTrainer\n",
    "\n",
    "from factorpol.utilities import (\n",
    "    Polarizability,\n",
    "    StorageHandler,\n",
    "    retrieve_records,\n",
    "    calc_rrms,\n",
    ")\n",
    "\n",
    "cwd = os.getcwd()\n",
    "off_forcefield = ForceField(\n",
    "    resource_filename(\"factorpol\", os.path.join(\"data\", \"off_examples.offxml\"))\n",
    ")"
   ]
  },
  {
   "cell_type": "markdown",
   "id": "bd4f9589",
   "metadata": {},
   "source": [
    "## Prepare data"
   ]
  },
  {
   "cell_type": "code",
   "execution_count": 2,
   "id": "e50d4fc9",
   "metadata": {},
   "outputs": [],
   "source": [
    "dataset = [\"CO\"]"
   ]
  },
  {
   "cell_type": "markdown",
   "id": "6bfc3b77",
   "metadata": {},
   "source": [
    "Create a `sqlalchemy` session"
   ]
  },
  {
   "cell_type": "code",
   "execution_count": 3,
   "id": "b4e6c2e5",
   "metadata": {},
   "outputs": [],
   "source": [
    "st = StorageHandler()\n",
    "ses = st.session(\"factorpol_examples\")"
   ]
  },
  {
   "cell_type": "code",
   "execution_count": 4,
   "id": "ebae0f70",
   "metadata": {},
   "outputs": [],
   "source": [
    "esp_records = retrieve_records(my_session=ses, dataset=dataset)"
   ]
  },
  {
   "cell_type": "code",
   "execution_count": 5,
   "id": "7cc2d289",
   "metadata": {},
   "outputs": [
    {
     "name": "stdout",
     "output_type": "stream",
     "text": [
      "Number of ESP records:\t 1\n"
     ]
    }
   ],
   "source": [
    "print(f\"Number of ESP records:\\t {len(esp_records)}\")"
   ]
  },
  {
   "cell_type": "markdown",
   "id": "02190f52",
   "metadata": {},
   "source": [
    "Load polarizabilities we derived in the previous example `01-derive-polarizability`"
   ]
  },
  {
   "cell_type": "code",
   "execution_count": 6,
   "id": "4c2fba13",
   "metadata": {},
   "outputs": [],
   "source": [
    "polarizability = Polarizability(data_source=\"ret_alphas.csv\")"
   ]
  },
  {
   "cell_type": "code",
   "execution_count": 7,
   "id": "2a98b0b5",
   "metadata": {},
   "outputs": [
    {
     "data": {
      "text/html": [
       "<div>\n",
       "<style scoped>\n",
       "    .dataframe tbody tr th:only-of-type {\n",
       "        vertical-align: middle;\n",
       "    }\n",
       "\n",
       "    .dataframe tbody tr th {\n",
       "        vertical-align: top;\n",
       "    }\n",
       "\n",
       "    .dataframe thead th {\n",
       "        text-align: right;\n",
       "    }\n",
       "</style>\n",
       "<table border=\"1\" class=\"dataframe\">\n",
       "  <thead>\n",
       "    <tr style=\"text-align: right;\">\n",
       "      <th></th>\n",
       "      <th>Polarizability (angstrom**3)</th>\n",
       "    </tr>\n",
       "    <tr>\n",
       "      <th>Type</th>\n",
       "      <th></th>\n",
       "    </tr>\n",
       "  </thead>\n",
       "  <tbody>\n",
       "    <tr>\n",
       "      <th>[#1:1]</th>\n",
       "      <td>0.377140</td>\n",
       "    </tr>\n",
       "    <tr>\n",
       "      <th>[#6:1]</th>\n",
       "      <td>1.440485</td>\n",
       "    </tr>\n",
       "    <tr>\n",
       "      <th>[#7:1]</th>\n",
       "      <td>0.000000</td>\n",
       "    </tr>\n",
       "    <tr>\n",
       "      <th>[#8:1]</th>\n",
       "      <td>0.000000</td>\n",
       "    </tr>\n",
       "  </tbody>\n",
       "</table>\n",
       "</div>"
      ],
      "text/plain": [
       "        Polarizability (angstrom**3)\n",
       "Type                                \n",
       "[#1:1]                      0.377140\n",
       "[#6:1]                      1.440485\n",
       "[#7:1]                      0.000000\n",
       "[#8:1]                      0.000000"
      ]
     },
     "execution_count": 7,
     "metadata": {},
     "output_type": "execute_result"
    }
   ],
   "source": [
    "polarizability.data"
   ]
  },
  {
   "cell_type": "markdown",
   "id": "3b9bfe6a",
   "metadata": {},
   "source": [
    "### RESP-dPol"
   ]
  },
  {
   "cell_type": "code",
   "execution_count": 8,
   "id": "811456f7",
   "metadata": {},
   "outputs": [
    {
     "name": "stderr",
     "output_type": "stream",
     "text": [
      "/home/wwilla/data_main/infrastructure/factorpol/factorpol/charge_training.py:82: RuntimeWarning: divide by zero encountered in power\n",
      "  self._r_jk == 0.0, self._r_jk, np.power(self._r_jk, -3)\n",
      "Warning: Cannot perform Hydrogen sampling with GPU-Omega: GPU-Omega disabled.\n"
     ]
    }
   ],
   "source": [
    "methanol = ChargeTrainer(\n",
    "    record=esp_records[\"CO\"],\n",
    "    polarizability=polarizability,\n",
    "    off_forcefield=off_forcefield,\n",
    "    coulomb14scale=0.5,\n",
    ")"
   ]
  },
  {
   "cell_type": "code",
   "execution_count": 9,
   "id": "31127118",
   "metadata": {},
   "outputs": [
    {
     "name": "stdout",
     "output_type": "stream",
     "text": [
      "Derive RESP-dPol partial charges for methanol\n"
     ]
    },
    {
     "data": {
      "text/html": [
       "<table><tbody><tr><th>Magnitude</th><td style='text-align:left;'><pre>[0.08855988896282083 -0.607709416056741 0.04699130610636622<br> 0.04699130610636623 0.046991306106366225 0.3793970905121749]</pre></td></tr><tr><th>Units</th><td style='text-align:left;'>elementary_charge</td></tr></tbody></table>"
      ],
      "text/latex": [
       "$\\begin{pmatrix}0.08855988896282083 & -0.607709416056741 & 0.04699130610636622 & 0.04699130610636623 & 0.046991306106366225 & 0.3793970905121749\\end{pmatrix}\\ \\mathrm{elementary\\_charge}$"
      ],
      "text/plain": [
       "array([ 0.08855989, -0.60770942,  0.04699131,  0.04699131,  0.04699131,\n",
       "        0.37939709]) <Unit('elementary_charge')>"
      ]
     },
     "execution_count": 9,
     "metadata": {},
     "output_type": "execute_result"
    }
   ],
   "source": [
    "print(\"Derive RESP-dPol partial charges for methanol\")\n",
    "methanol.resp_dpol"
   ]
  },
  {
   "cell_type": "markdown",
   "id": "d3e776d7",
   "metadata": {},
   "source": [
    "### Calculate Quality-of-fit RRMS"
   ]
  },
  {
   "cell_type": "code",
   "execution_count": 10,
   "id": "b536cda7",
   "metadata": {},
   "outputs": [
    {
     "name": "stdout",
     "output_type": "stream",
     "text": [
      "Quality-of-fit RRMS = 0.011\n"
     ]
    }
   ],
   "source": [
    "rrms = calc_rrms(calc=methanol.mm_dpol_esps.magnitude, ref=methanol.esp_values)\n",
    "print(f\"Quality-of-fit RRMS = {rrms:.3f}\")"
   ]
  },
  {
   "cell_type": "code",
   "execution_count": null,
   "id": "29dfd6e6",
   "metadata": {},
   "outputs": [],
   "source": []
  }
 ],
 "metadata": {
  "kernelspec": {
   "display_name": "Python 3 (ipykernel)",
   "language": "python",
   "name": "python3"
  },
  "language_info": {
   "codemirror_mode": {
    "name": "ipython",
    "version": 3
   },
   "file_extension": ".py",
   "mimetype": "text/x-python",
   "name": "python",
   "nbconvert_exporter": "python",
   "pygments_lexer": "ipython3",
   "version": "3.9.15"
  }
 },
 "nbformat": 4,
 "nbformat_minor": 5
}
