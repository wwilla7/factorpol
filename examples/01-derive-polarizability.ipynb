{
 "cells": [
  {
   "cell_type": "markdown",
   "id": "c68d7205",
   "metadata": {},
   "source": [
    "## Introduction\n",
    "\n",
    "This is an example to derive SMIRNOFF typed atom-centerd polarizabilities from quantum mechanically calculated electrostatics potentials with `factorpol` package.\n",
    "\n",
    "A `Nelder–Mead` optimizer is used as a global optimization to minimize the objective function of the training set. When only one molecule is in the training set, the resulting polarizabilities are tailored to the one molecule.\n",
    "\n",
    "\n",
    "## Dependencies\n",
    "\n",
    "- ray\n",
    "- openff-toolkit\n",
    "- openff-recharge*\n",
    "- sqlalchemy\n",
    "- openeye-toolkits"
   ]
  },
  {
   "cell_type": "code",
   "execution_count": 1,
   "id": "ad9e912e",
   "metadata": {},
   "outputs": [
    {
     "name": "stderr",
     "output_type": "stream",
     "text": [
      "/home/wwilla/mambaforge/envs/factorpol/lib/python3.9/site-packages/numpy/core/getlimits.py:499: UserWarning: The value of the smallest subnormal for <class 'numpy.float64'> type is zero.\n",
      "  setattr(self, word, getattr(machar, word).flat[0])\n",
      "/home/wwilla/mambaforge/envs/factorpol/lib/python3.9/site-packages/numpy/core/getlimits.py:89: UserWarning: The value of the smallest subnormal for <class 'numpy.float64'> type is zero.\n",
      "  return self._float_to_str(self.smallest_subnormal)\n",
      "/home/wwilla/mambaforge/envs/factorpol/lib/python3.9/site-packages/numpy/core/getlimits.py:499: UserWarning: The value of the smallest subnormal for <class 'numpy.float32'> type is zero.\n",
      "  setattr(self, word, getattr(machar, word).flat[0])\n",
      "/home/wwilla/mambaforge/envs/factorpol/lib/python3.9/site-packages/numpy/core/getlimits.py:89: UserWarning: The value of the smallest subnormal for <class 'numpy.float32'> type is zero.\n",
      "  return self._float_to_str(self.smallest_subnormal)\n"
     ]
    }
   ],
   "source": [
    "import os\n",
    "import numpy as np\n",
    "import pandas as pd\n",
    "from openff.toolkit import ForceField, Molecule\n",
    "from pkg_resources import resource_filename\n",
    "\n",
    "from factorpol.alphas_training import AlphaData, AlphasTrainer\n",
    "from factorpol.charge_training import ChargeTrainer\n",
    "from factorpol.utilities import (calc_rrms, flatten_a_list, Polarizability,\n",
    "                                 StorageHandler)\n",
    "cwd = os.getcwd()"
   ]
  },
  {
   "cell_type": "markdown",
   "id": "ef5c0251",
   "metadata": {},
   "source": [
    "## Prepare dataset"
   ]
  },
  {
   "cell_type": "markdown",
   "id": "2f5c38da",
   "metadata": {},
   "source": [
    "Curate QM ESPs data generated in `00-generate-qm-reference.ipynb`.\n",
    "\n",
    "`off_examples.offxml` is an example OpenForceField style [ForceField file](https://github.com/openforcefield/openff-forcefields/tree/main/openforcefields/offxml). We use the `<vdW>` handeler to label atoms with SMIRNOFF patterns and assign electrostatics parameters until we have a new handeler for polarizability.\n"
   ]
  },
  {
   "cell_type": "code",
   "execution_count": 2,
   "id": "147e7fd9",
   "metadata": {},
   "outputs": [],
   "source": [
    "off_forcefield = ForceField(resource_filename(\n",
    "    \"factorpol\", os.path.join(\"data\", \"off_examples.offxml\")\n",
    "))\n",
    "\n",
    "# Initialize a polarizability \n",
    "alphas0 = Polarizability()"
   ]
  },
  {
   "cell_type": "markdown",
   "id": "290a7cf2",
   "metadata": {},
   "source": [
    "Curate QM data and prepare ray workers to optimize polarizabilities"
   ]
  },
  {
   "cell_type": "code",
   "execution_count": 3,
   "id": "6446d905",
   "metadata": {
    "scrolled": true
   },
   "outputs": [
    {
     "name": "stderr",
     "output_type": "stream",
     "text": [
      "2023-03-30 20:51:39,885\tINFO worker.py:1553 -- Started a local Ray instance.\n",
      "\u001b[2m\u001b[36m(pid=2668449)\u001b[0m /home/wwilla/mambaforge/envs/factorpol/lib/python3.9/site-packages/numpy/core/getlimits.py:499: UserWarning: The value of the smallest subnormal for <class 'numpy.float64'> type is zero.\n",
      "\u001b[2m\u001b[36m(pid=2668449)\u001b[0m   setattr(self, word, getattr(machar, word).flat[0])\n",
      "\u001b[2m\u001b[36m(pid=2668449)\u001b[0m /home/wwilla/mambaforge/envs/factorpol/lib/python3.9/site-packages/numpy/core/getlimits.py:89: UserWarning: The value of the smallest subnormal for <class 'numpy.float64'> type is zero.\n",
      "\u001b[2m\u001b[36m(pid=2668449)\u001b[0m   return self._float_to_str(self.smallest_subnormal)\n",
      "\u001b[2m\u001b[36m(pid=2668449)\u001b[0m /home/wwilla/mambaforge/envs/factorpol/lib/python3.9/site-packages/numpy/core/getlimits.py:499: UserWarning: The value of the smallest subnormal for <class 'numpy.float32'> type is zero.\n",
      "\u001b[2m\u001b[36m(pid=2668449)\u001b[0m   setattr(self, word, getattr(machar, word).flat[0])\n",
      "\u001b[2m\u001b[36m(pid=2668449)\u001b[0m /home/wwilla/mambaforge/envs/factorpol/lib/python3.9/site-packages/numpy/core/getlimits.py:89: UserWarning: The value of the smallest subnormal for <class 'numpy.float32'> type is zero.\n",
      "\u001b[2m\u001b[36m(pid=2668449)\u001b[0m   return self._float_to_str(self.smallest_subnormal)\n",
      "\u001b[2m\u001b[36m(pid=2668450)\u001b[0m /home/wwilla/mambaforge/envs/factorpol/lib/python3.9/site-packages/numpy/core/getlimits.py:499: UserWarning: The value of the smallest subnormal for <class 'numpy.float64'> type is zero.\n",
      "\u001b[2m\u001b[36m(pid=2668450)\u001b[0m   setattr(self, word, getattr(machar, word).flat[0])\n",
      "\u001b[2m\u001b[36m(pid=2668450)\u001b[0m /home/wwilla/mambaforge/envs/factorpol/lib/python3.9/site-packages/numpy/core/getlimits.py:89: UserWarning: The value of the smallest subnormal for <class 'numpy.float64'> type is zero.\n",
      "\u001b[2m\u001b[36m(pid=2668450)\u001b[0m   return self._float_to_str(self.smallest_subnormal)\n",
      "\u001b[2m\u001b[36m(pid=2668450)\u001b[0m /home/wwilla/mambaforge/envs/factorpol/lib/python3.9/site-packages/numpy/core/getlimits.py:499: UserWarning: The value of the smallest subnormal for <class 'numpy.float32'> type is zero.\n",
      "\u001b[2m\u001b[36m(pid=2668450)\u001b[0m   setattr(self, word, getattr(machar, word).flat[0])\n",
      "\u001b[2m\u001b[36m(pid=2668450)\u001b[0m /home/wwilla/mambaforge/envs/factorpol/lib/python3.9/site-packages/numpy/core/getlimits.py:89: UserWarning: The value of the smallest subnormal for <class 'numpy.float32'> type is zero.\n",
      "\u001b[2m\u001b[36m(pid=2668450)\u001b[0m   return self._float_to_str(self.smallest_subnormal)\n",
      "\u001b[2m\u001b[36m(create_worker pid=2668449)\u001b[0m /home/wwilla/data_main/infrastructure/factorpol/factorpol/charge_training.py:82: RuntimeWarning: divide by zero encountered in power\n",
      "\u001b[2m\u001b[36m(create_worker pid=2668449)\u001b[0m   self._r_jk == 0.0, self._r_jk, np.power(self._r_jk, -3)\n",
      "\u001b[2m\u001b[36m(create_worker pid=2668449)\u001b[0m Warning: Cannot perform Hydrogen sampling with GPU-Omega: GPU-Omega disabled.\n",
      "\u001b[2m\u001b[36m(create_worker pid=2668450)\u001b[0m /home/wwilla/data_main/infrastructure/factorpol/factorpol/charge_training.py:82: RuntimeWarning: divide by zero encountered in power\n",
      "\u001b[2m\u001b[36m(create_worker pid=2668450)\u001b[0m   self._r_jk == 0.0, self._r_jk, np.power(self._r_jk, -3)\n",
      "\u001b[2m\u001b[36m(create_worker pid=2668450)\u001b[0m Warning: Cannot perform Hydrogen sampling with GPU-Omega: GPU-Omega disabled.\n",
      "\u001b[2m\u001b[36m(create_worker pid=2668449)\u001b[0m /home/wwilla/data_main/infrastructure/factorpol/factorpol/charge_training.py:82: RuntimeWarning: divide by zero encountered in power\n",
      "\u001b[2m\u001b[36m(create_worker pid=2668449)\u001b[0m   self._r_jk == 0.0, self._r_jk, np.power(self._r_jk, -3)\n",
      "\u001b[2m\u001b[36m(create_worker pid=2668450)\u001b[0m /home/wwilla/data_main/infrastructure/factorpol/factorpol/charge_training.py:82: RuntimeWarning: divide by zero encountered in power\n",
      "\u001b[2m\u001b[36m(create_worker pid=2668450)\u001b[0m   self._r_jk == 0.0, self._r_jk, np.power(self._r_jk, -3)\n"
     ]
    }
   ],
   "source": [
    "data = AlphaData(\n",
    "    database_name=\"factorpol_examples\",\n",
    "    dataset=[\"CO\", \"C=C\"],\n",
    "    off_forcefield=off_forcefield,\n",
    "    polarizability=alphas0,\n",
    "    num_cpus=2,\n",
    ")"
   ]
  },
  {
   "cell_type": "markdown",
   "id": "c1965788",
   "metadata": {},
   "source": [
    "Because we have 2 molecules in the training set, each of them has two sets of QM ESPs, which means 1 workers per molecule and a totoal of 2 workers."
   ]
  },
  {
   "cell_type": "code",
   "execution_count": 4,
   "id": "0378c110",
   "metadata": {},
   "outputs": [
    {
     "name": "stdout",
     "output_type": "stream",
     "text": [
      "Number of data in training set:\t 2\n"
     ]
    }
   ],
   "source": [
    "print(f\"Number of data in training set:\\t {len(data.workers)}\")"
   ]
  },
  {
   "cell_type": "markdown",
   "id": "dc9483c6",
   "metadata": {},
   "source": [
    "## Optimization"
   ]
  },
  {
   "cell_type": "code",
   "execution_count": 5,
   "id": "a22b93d1",
   "metadata": {},
   "outputs": [
    {
     "name": "stderr",
     "output_type": "stream",
     "text": [
      "Path exists, deleting\n"
     ]
    }
   ],
   "source": [
    "atrain = AlphasTrainer(\n",
    "    workers=data.workers,\n",
    "    prior=alphas0,\n",
    "    working_directory=os.path.join(cwd, \"data_alphas\"),\n",
    ")"
   ]
  },
  {
   "cell_type": "code",
   "execution_count": 6,
   "id": "b9092773",
   "metadata": {
    "scrolled": true
   },
   "outputs": [
    {
     "name": "stderr",
     "output_type": "stream",
     "text": [
      "2023-03-30 20:51:52,238\tINFO worker.py:1553 -- Started a local Ray instance.\n",
      "\u001b[2m\u001b[36m(pid=2670778)\u001b[0m /home/wwilla/mambaforge/envs/factorpol/lib/python3.9/site-packages/numpy/core/getlimits.py:499: UserWarning: The value of the smallest subnormal for <class 'numpy.float64'> type is zero.\n",
      "\u001b[2m\u001b[36m(pid=2670778)\u001b[0m   setattr(self, word, getattr(machar, word).flat[0])\n",
      "\u001b[2m\u001b[36m(pid=2670778)\u001b[0m /home/wwilla/mambaforge/envs/factorpol/lib/python3.9/site-packages/numpy/core/getlimits.py:89: UserWarning: The value of the smallest subnormal for <class 'numpy.float64'> type is zero.\n",
      "\u001b[2m\u001b[36m(pid=2670778)\u001b[0m   return self._float_to_str(self.smallest_subnormal)\n",
      "\u001b[2m\u001b[36m(pid=2670778)\u001b[0m /home/wwilla/mambaforge/envs/factorpol/lib/python3.9/site-packages/numpy/core/getlimits.py:499: UserWarning: The value of the smallest subnormal for <class 'numpy.float32'> type is zero.\n",
      "\u001b[2m\u001b[36m(pid=2670778)\u001b[0m   setattr(self, word, getattr(machar, word).flat[0])\n",
      "\u001b[2m\u001b[36m(pid=2670778)\u001b[0m /home/wwilla/mambaforge/envs/factorpol/lib/python3.9/site-packages/numpy/core/getlimits.py:89: UserWarning: The value of the smallest subnormal for <class 'numpy.float32'> type is zero.\n",
      "\u001b[2m\u001b[36m(pid=2670778)\u001b[0m   return self._float_to_str(self.smallest_subnormal)\n",
      "\u001b[2m\u001b[36m(pid=2670773)\u001b[0m /home/wwilla/mambaforge/envs/factorpol/lib/python3.9/site-packages/numpy/core/getlimits.py:499: UserWarning: The value of the smallest subnormal for <class 'numpy.float64'> type is zero.\n",
      "\u001b[2m\u001b[36m(pid=2670773)\u001b[0m   setattr(self, word, getattr(machar, word).flat[0])\n",
      "\u001b[2m\u001b[36m(pid=2670773)\u001b[0m /home/wwilla/mambaforge/envs/factorpol/lib/python3.9/site-packages/numpy/core/getlimits.py:89: UserWarning: The value of the smallest subnormal for <class 'numpy.float64'> type is zero.\n",
      "\u001b[2m\u001b[36m(pid=2670773)\u001b[0m   return self._float_to_str(self.smallest_subnormal)\n",
      "\u001b[2m\u001b[36m(pid=2670773)\u001b[0m /home/wwilla/mambaforge/envs/factorpol/lib/python3.9/site-packages/numpy/core/getlimits.py:499: UserWarning: The value of the smallest subnormal for <class 'numpy.float32'> type is zero.\n",
      "\u001b[2m\u001b[36m(pid=2670773)\u001b[0m   setattr(self, word, getattr(machar, word).flat[0])\n",
      "\u001b[2m\u001b[36m(pid=2670773)\u001b[0m /home/wwilla/mambaforge/envs/factorpol/lib/python3.9/site-packages/numpy/core/getlimits.py:89: UserWarning: The value of the smallest subnormal for <class 'numpy.float32'> type is zero.\n",
      "\u001b[2m\u001b[36m(pid=2670773)\u001b[0m   return self._float_to_str(self.smallest_subnormal)\n",
      "\u001b[2m\u001b[36m(_calc_loss pid=2670778)\u001b[0m /home/wwilla/data_main/infrastructure/factorpol/factorpol/utilities.py:373: RuntimeWarning: divide by zero encountered in double_scalars\n",
      "\u001b[2m\u001b[36m(_calc_loss pid=2670778)\u001b[0m   ret = np.sqrt((np.sum(np.square(calc - ref)) / np.sum(np.square(calc))) / ndata)\n",
      "\u001b[2m\u001b[36m(_calc_loss pid=2670773)\u001b[0m /home/wwilla/data_main/infrastructure/factorpol/factorpol/utilities.py:373: RuntimeWarning: divide by zero encountered in double_scalars\n",
      "\u001b[2m\u001b[36m(_calc_loss pid=2670773)\u001b[0m   ret = np.sqrt((np.sum(np.square(calc - ref)) / np.sum(np.square(calc))) / ndata)\n"
     ]
    }
   ],
   "source": [
    "ret = atrain.optimize(bounds=(((0, 10), )*4))"
   ]
  },
  {
   "cell_type": "markdown",
   "id": "8c3ea993",
   "metadata": {},
   "source": [
    "## Results"
   ]
  },
  {
   "cell_type": "code",
   "execution_count": 7,
   "id": "f5ea672f",
   "metadata": {},
   "outputs": [
    {
     "data": {
      "text/plain": [
       " final_simplex: (array([[0.37713996, 1.44048538, 0.        , 0.        ],\n",
       "       [0.37716105, 1.44042601, 0.        , 0.        ],\n",
       "       [0.37715116, 1.44042947, 0.        , 0.        ],\n",
       "       [0.3771658 , 1.44040516, 0.        , 0.        ],\n",
       "       [0.37713205, 1.44047688, 0.        , 0.        ]]), array([0.00790689, 0.00790689, 0.00790689, 0.00790689, 0.00790689]))\n",
       "           fun: 0.007906892049658505\n",
       "       message: 'Optimization terminated successfully.'\n",
       "          nfev: 277\n",
       "           nit: 160\n",
       "        status: 0\n",
       "       success: True\n",
       "             x: array([0.37713996, 1.44048538, 0.        , 0.        ])"
      ]
     },
     "execution_count": 7,
     "metadata": {},
     "output_type": "execute_result"
    }
   ],
   "source": [
    "ret"
   ]
  },
  {
   "cell_type": "code",
   "execution_count": 8,
   "id": "f1d2d482",
   "metadata": {},
   "outputs": [],
   "source": [
    "ret_opt = Polarizability(\n",
    "    data_source=os.path.join(\n",
    "        atrain.working_directory, f\"alpha_{atrain.iteration:03d}.log\"\n",
    "    ),\n",
    ")"
   ]
  },
  {
   "cell_type": "code",
   "execution_count": 9,
   "id": "b03a3dd8",
   "metadata": {},
   "outputs": [
    {
     "data": {
      "text/html": [
       "<div>\n",
       "<style scoped>\n",
       "    .dataframe tbody tr th:only-of-type {\n",
       "        vertical-align: middle;\n",
       "    }\n",
       "\n",
       "    .dataframe tbody tr th {\n",
       "        vertical-align: top;\n",
       "    }\n",
       "\n",
       "    .dataframe thead th {\n",
       "        text-align: right;\n",
       "    }\n",
       "</style>\n",
       "<table border=\"1\" class=\"dataframe\">\n",
       "  <thead>\n",
       "    <tr style=\"text-align: right;\">\n",
       "      <th></th>\n",
       "      <th>Polarizability (angstrom**3)</th>\n",
       "    </tr>\n",
       "    <tr>\n",
       "      <th>Type</th>\n",
       "      <th></th>\n",
       "    </tr>\n",
       "  </thead>\n",
       "  <tbody>\n",
       "    <tr>\n",
       "      <th>[#1:1]</th>\n",
       "      <td>0.377140</td>\n",
       "    </tr>\n",
       "    <tr>\n",
       "      <th>[#6:1]</th>\n",
       "      <td>1.440485</td>\n",
       "    </tr>\n",
       "    <tr>\n",
       "      <th>[#7:1]</th>\n",
       "      <td>0.000000</td>\n",
       "    </tr>\n",
       "    <tr>\n",
       "      <th>[#8:1]</th>\n",
       "      <td>0.000000</td>\n",
       "    </tr>\n",
       "  </tbody>\n",
       "</table>\n",
       "</div>"
      ],
      "text/plain": [
       "        Polarizability (angstrom**3)\n",
       "Type                                \n",
       "[#1:1]                      0.377140\n",
       "[#6:1]                      1.440485\n",
       "[#7:1]                      0.000000\n",
       "[#8:1]                      0.000000"
      ]
     },
     "execution_count": 9,
     "metadata": {},
     "output_type": "execute_result"
    }
   ],
   "source": [
    "ret_opt.data"
   ]
  },
  {
   "cell_type": "markdown",
   "id": "139951dd",
   "metadata": {},
   "source": [
    "Save a copy of optimization result to local"
   ]
  },
  {
   "cell_type": "code",
   "execution_count": 10,
   "id": "3a1e24a4",
   "metadata": {},
   "outputs": [],
   "source": [
    "ret_opt.data.to_csv(\"ret_alphas.csv\", index=\"Type\")"
   ]
  },
  {
   "cell_type": "code",
   "execution_count": null,
   "id": "c2f009dd",
   "metadata": {},
   "outputs": [],
   "source": []
  }
 ],
 "metadata": {
  "kernelspec": {
   "display_name": "factorpol",
   "language": "python",
   "name": "factorpol"
  },
  "language_info": {
   "codemirror_mode": {
    "name": "ipython",
    "version": 3
   },
   "file_extension": ".py",
   "mimetype": "text/x-python",
   "name": "python",
   "nbconvert_exporter": "python",
   "pygments_lexer": "ipython3",
   "version": "3.9.15"
  }
 },
 "nbformat": 4,
 "nbformat_minor": 5
}
