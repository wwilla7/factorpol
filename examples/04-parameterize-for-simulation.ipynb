{
 "cells": [
  {
   "cell_type": "markdown",
   "id": "4024bc28",
   "metadata": {},
   "source": [
    "## Introduction\n",
    "\n",
    "\n",
    "This notebook contains workflows to parameterize a system (methanol) for molecular dynamics simulations with OpenMM and [MPID plugin](https://github.com/andysim/MPIDOpenMMPlugin).\n",
    "\n",
    "### Dependencies\n",
    "- OpenMM > 7\n",
    "- MPID Plugin [installation](https://andysim.github.io/MPIDOpenMMPlugin/building)\n",
    "- openmmforcefields\n",
    "- parmed"
   ]
  },
  {
   "cell_type": "code",
   "execution_count": 1,
   "id": "a80f476b",
   "metadata": {},
   "outputs": [
    {
     "name": "stderr",
     "output_type": "stream",
     "text": [
      "/home/wwilla/mambaforge/envs/factorpol/lib/python3.9/site-packages/numpy/core/getlimits.py:499: UserWarning: The value of the smallest subnormal for <class 'numpy.float64'> type is zero.\n",
      "  setattr(self, word, getattr(machar, word).flat[0])\n",
      "/home/wwilla/mambaforge/envs/factorpol/lib/python3.9/site-packages/numpy/core/getlimits.py:89: UserWarning: The value of the smallest subnormal for <class 'numpy.float64'> type is zero.\n",
      "  return self._float_to_str(self.smallest_subnormal)\n",
      "/home/wwilla/mambaforge/envs/factorpol/lib/python3.9/site-packages/numpy/core/getlimits.py:499: UserWarning: The value of the smallest subnormal for <class 'numpy.float32'> type is zero.\n",
      "  setattr(self, word, getattr(machar, word).flat[0])\n",
      "/home/wwilla/mambaforge/envs/factorpol/lib/python3.9/site-packages/numpy/core/getlimits.py:89: UserWarning: The value of the smallest subnormal for <class 'numpy.float32'> type is zero.\n",
      "  return self._float_to_str(self.smallest_subnormal)\n"
     ]
    }
   ],
   "source": [
    "import os\n",
    "import numpy as np\n",
    "from openff.toolkit import ForceField\n",
    "from pkg_resources import resource_filename\n",
    "\n",
    "from factorpol.parameterization import parameterize_molecule\n",
    "from factorpol.utilities import BondChargeCorrections, Polarizability\n",
    "\n",
    "cwd = os.getcwd()\n",
    "\n",
    "off_forcefield = ForceField(resource_filename(\n",
    "    \"factorpol\", os.path.join(\"data\", \"off_examples.offxml\")\n",
    "))"
   ]
  },
  {
   "cell_type": "markdown",
   "id": "43e5756c",
   "metadata": {},
   "source": [
    "### Prepare force field\n",
    "Load previously derived polarizabilities and BCC-dPol parameters. For demonstration reason, they are not well defined and should only be used as examples."
   ]
  },
  {
   "cell_type": "code",
   "execution_count": 2,
   "id": "3f0b19ee",
   "metadata": {},
   "outputs": [],
   "source": [
    "polarizability = Polarizability(data_source=\"ret_alphas.csv\")"
   ]
  },
  {
   "cell_type": "code",
   "execution_count": 3,
   "id": "1791c429",
   "metadata": {},
   "outputs": [],
   "source": [
    "bcc_dpol_library = BondChargeCorrections(data_source=\"ret_bccs.csv\")"
   ]
  },
  {
   "cell_type": "markdown",
   "id": "c145c67f",
   "metadata": {},
   "source": [
    "Use OpenFF Sage force field for valence and van der Waals parameters. GAFF is also available by specifying `ff_name=\"gaff\"`"
   ]
  },
  {
   "cell_type": "code",
   "execution_count": 4,
   "id": "e0f0b96b",
   "metadata": {},
   "outputs": [
    {
     "name": "stderr",
     "output_type": "stream",
     "text": [
      "Warning: Cannot perform Hydrogen sampling with GPU-Omega: GPU-Omega disabled.\n"
     ]
    }
   ],
   "source": [
    "parm = parameterize_molecule(\n",
    "    smile=\"CO\",\n",
    "    ff_name=\"sage\",\n",
    "    polarizability=polarizability,\n",
    "    BCCLibrary=bcc_dpol_library,\n",
    "    output_path=os.path.join(cwd, \"data_mpid\"),\n",
    "    off_forcefield=off_forcefield,\n",
    ")"
   ]
  },
  {
   "cell_type": "markdown",
   "id": "74a87955",
   "metadata": {},
   "source": [
    "### Create an OpenMM system\n",
    "```\n",
    "forcefield = ForceField(\"data_mpid/forcefield.xml\")\n",
    "system = forcefield.createSystem(\n",
    "    pdb.topology,\n",
    "    nonbondedMethod=PME,\n",
    "    polarization=\"direct\",\n",
    "    nonbondedCutoff=8 * angstrom,\n",
    "    constraints=HBonds,\n",
    "    defaultTholeWidth=8,\n",
    ")\n",
    "```"
   ]
  },
  {
   "cell_type": "markdown",
   "id": "a0ca5f03",
   "metadata": {},
   "source": [
    "Print out the generated force field file:"
   ]
  },
  {
   "cell_type": "code",
   "execution_count": 5,
   "id": "d00aeee6",
   "metadata": {
    "scrolled": false
   },
   "outputs": [
    {
     "name": "stdout",
     "output_type": "stream",
     "text": [
      "<ForceField>\n",
      "  <Info>\n",
      "    <DateGenerated>2023-03-30</DateGenerated>\n",
      "  </Info>\n",
      "  <AtomTypes>\n",
      "    <Type element=\"C\" name=\"C1\" class=\"C1\" mass=\"12.01078\"/>\n",
      "    <Type element=\"O\" name=\"O1\" class=\"O1\" mass=\"15.99943\"/>\n",
      "    <Type element=\"H\" name=\"H1\" class=\"H1\" mass=\"1.007947\"/>\n",
      "    <Type element=\"H\" name=\"H2\" class=\"H2\" mass=\"1.007947\"/>\n",
      "  </AtomTypes>\n",
      "  <Residues>\n",
      "    <Residue name=\"UNK\">\n",
      "      <Atom name=\"C1x\" type=\"C1\" charge=\"0.0\"/>\n",
      "      <Atom name=\"O1x\" type=\"O1\" charge=\"0.0\"/>\n",
      "      <Atom name=\"H1x\" type=\"H1\" charge=\"0.0\"/>\n",
      "      <Atom name=\"H2x\" type=\"H1\" charge=\"0.0\"/>\n",
      "      <Atom name=\"H3x\" type=\"H1\" charge=\"0.0\"/>\n",
      "      <Atom name=\"H4x\" type=\"H2\" charge=\"0.0\"/>\n",
      "      <Bond atomName1=\"C1x\" atomName2=\"O1x\"/>\n",
      "      <Bond atomName1=\"C1x\" atomName2=\"H1x\"/>\n",
      "      <Bond atomName1=\"C1x\" atomName2=\"H2x\"/>\n",
      "      <Bond atomName1=\"C1x\" atomName2=\"H3x\"/>\n",
      "      <Bond atomName1=\"O1x\" atomName2=\"H4x\"/>\n",
      "    </Residue>\n",
      "  </Residues>\n",
      "  <HarmonicBondForce>\n",
      "    <Bond class1=\"C1\" class2=\"O1\" length=\"0.14273439587159997\" k=\"276118.879748549\"/>\n",
      "    <Bond class1=\"C1\" class2=\"H1\" length=\"0.10938994926340001\" k=\"309655.08432241395\"/>\n",
      "    <Bond class1=\"O1\" class2=\"H2\" length=\"0.09716763312559001\" k=\"454823.21217213676\"/>\n",
      "  </HarmonicBondForce>\n",
      "  <HarmonicAngleForce>\n",
      "    <Angle class1=\"C1\" class2=\"O1\" class3=\"H2\" angle=\"1.9260385591386002\" k=\"544.6782754913279\"/>\n",
      "    <Angle class1=\"O1\" class2=\"C1\" class3=\"H1\" angle=\"2.034139115548445\" k=\"445.22208650928565\"/>\n",
      "    <Angle class1=\"H1\" class2=\"C1\" class3=\"H1\" angle=\"2.017654719697188\" k=\"408.161690475075\"/>\n",
      "  </HarmonicAngleForce>\n",
      "  <PeriodicTorsionForce>\n",
      "    <Proper class1=\"H1\" class2=\"C1\" class3=\"O1\" class4=\"H2\" periodicity1=\"3\" phase1=\"0.0\" k1=\"1.2662416460753056\"/>\n",
      "  </PeriodicTorsionForce>\n",
      "  <NonbondedForce coulomb14scale=\"0.83333\" lj14scale=\"0.5\">\n",
      "    <UseAttributeFromResidue name=\"charge\"/>\n",
      "    <Atom class=\"C1\" sigma=\"0.337953176162662\" epsilon=\"0.45538911611061844\"/>\n",
      "    <Atom class=\"O1\" sigma=\"0.2997159987248637\" epsilon=\"0.8764372596155737\"/>\n",
      "    <Atom class=\"H1\" sigma=\"0.2583225710839196\" epsilon=\"0.068656285380106\"/>\n",
      "    <Atom class=\"H2\" sigma=\"0.05345392308836691\" epsilon=\"5.157198260534728e-05\"/>\n",
      "  </NonbondedForce>\n",
      "  <MPIDForce coulomb14scale=\"1.0\">\n",
      "\t<Multipole name=\"C1x\" type=\"C1\" c0=\"0.0216215\"/>\n",
      "\t<Polarize name=\"C1x\" type=\"C1\" polarizabilityXX=\"0.0014404853800194226\" polarizabilityYY=\"0.0014404853800194226\" polarizabilityZZ=\"0.0014404853800194226\" thole=\"8.0\"/>\n",
      "\t<Multipole name=\"O1x\" type=\"O1\" c0=\"-0.4951345\"/>\n",
      "\t<Polarize name=\"O1x\" type=\"O1\" polarizabilityXX=\"0.0\" polarizabilityYY=\"0.0\" polarizabilityZZ=\"0.0\" thole=\"0.0\"/>\n",
      "\t<Multipole name=\"H1x\" type=\"H1\" c0=\"0.0504567\"/>\n",
      "\t<Polarize name=\"H1x\" type=\"H1\" polarizabilityXX=\"0.00037713996174585117\" polarizabilityYY=\"0.00037713996174585117\" polarizabilityZZ=\"0.00037713996174585117\" thole=\"8.0\"/>\n",
      "\t<Multipole name=\"H2x\" type=\"H1\" c0=\"0.0504567\"/>\n",
      "\t<Polarize name=\"H2x\" type=\"H1\" polarizabilityXX=\"0.00037713996174585117\" polarizabilityYY=\"0.00037713996174585117\" polarizabilityZZ=\"0.00037713996174585117\" thole=\"8.0\"/>\n",
      "\t<Multipole name=\"H3x\" type=\"H1\" c0=\"0.0504567\"/>\n",
      "\t<Polarize name=\"H3x\" type=\"H1\" polarizabilityXX=\"0.00037713996174585117\" polarizabilityYY=\"0.00037713996174585117\" polarizabilityZZ=\"0.00037713996174585117\" thole=\"8.0\"/>\n",
      "\t<Multipole name=\"H4x\" type=\"H2\" c0=\"0.3221429\"/>\n",
      "\t<Polarize name=\"H4x\" type=\"H2\" polarizabilityXX=\"0.00037713996174585117\" polarizabilityYY=\"0.00037713996174585117\" polarizabilityZZ=\"0.00037713996174585117\" thole=\"8.0\"/>\n",
      "\t</MPIDForce>\n",
      "</ForceField>\n",
      "\n"
     ]
    }
   ],
   "source": [
    "print(parm[\"forcefield.xml\"])"
   ]
  },
  {
   "cell_type": "code",
   "execution_count": null,
   "id": "625079c2",
   "metadata": {},
   "outputs": [],
   "source": []
  }
 ],
 "metadata": {
  "kernelspec": {
   "display_name": "factorpol",
   "language": "python",
   "name": "factorpol"
  },
  "language_info": {
   "codemirror_mode": {
    "name": "ipython",
    "version": 3
   },
   "file_extension": ".py",
   "mimetype": "text/x-python",
   "name": "python",
   "nbconvert_exporter": "python",
   "pygments_lexer": "ipython3",
   "version": "3.9.15"
  }
 },
 "nbformat": 4,
 "nbformat_minor": 5
}
